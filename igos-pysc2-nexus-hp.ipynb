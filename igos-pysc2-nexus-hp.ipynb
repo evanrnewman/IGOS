{
 "cells": [
  {
   "cell_type": "code",
   "execution_count": 697,
   "metadata": {},
   "outputs": [],
   "source": [
    "import numpy as np\n",
    "import torch\n",
    "import torch.nn as nn\n",
    "from torch.optim import Adam\n",
    "from tensorboardX import SummaryWriter\n",
    "import tqdm\n",
    "import os\n",
    "import uuid\n",
    "import matplotlib.pyplot as plt\n",
    "np.set_printoptions(suppress=True)"
   ]
  },
  {
   "cell_type": "code",
   "execution_count": 698,
   "metadata": {},
   "outputs": [
    {
     "data": {
      "text/plain": [
       "<Figure size 432x288 with 0 Axes>"
      ]
     },
     "metadata": {},
     "output_type": "display_data"
    }
   ],
   "source": [
    "use_cuda = torch.cuda.is_available()\n",
    "FloatTensor = torch.cuda.FloatTensor if use_cuda else torch.FloatTensor\n",
    "LongTensor = torch.cuda.LongTensor if use_cuda else torch.LongTensor\n",
    "IntTensor = torch.cuda.IntTensor if use_cuda else torch.IntTensor\n",
    "ByteTensor = torch.cuda.ByteTensor if use_cuda else torch.ByteTensor\n",
    "Tensor = FloatTensor\n",
    "\n",
    "unique_id = str(uuid.uuid4())\n",
    "\n",
    "plot = plt.figure()\n",
    "\n",
    "def weights_initialize(module):\n",
    "    if type(module) == nn.Linear:\n",
    "        nn.init.xavier_uniform_(module.weight, gain=nn.init.calculate_gain('relu'))\n",
    "        module.bias.data.fill_(0.01)\n",
    "        \n",
    "class _TransModel(nn.Module):\n",
    "    \"\"\" Model for DQN \"\"\"\n",
    "\n",
    "    def __init__(self, input_len, output_len):\n",
    "        super(_TransModel, self).__init__()\n",
    "        \n",
    "        self.fc1 = nn.Sequential(\n",
    "            torch.nn.Linear(input_len, 1024),\n",
    "            torch.nn.BatchNorm1d(1024),\n",
    "            nn.ReLU()\n",
    "        )\n",
    "        self.fc1.apply(weights_initialize)\n",
    "        \n",
    "        self.fc2 = nn.Sequential(\n",
    "            torch.nn.Linear(1024, 256),\n",
    "            # torch.nn.BatchNorm1d(128),\n",
    "            nn.ReLU()\n",
    "        )\n",
    "        self.fc2.apply(weights_initialize)\n",
    "        \n",
    "        self.output_layer = nn.Sequential(\n",
    "            torch.nn.Linear(256, output_len)\n",
    "        )\n",
    "        self.output_layer.apply(weights_initialize)\n",
    "        \n",
    "    def forward(self, input):\n",
    "        x = self.fc1(input)\n",
    "        x = self.fc2(x)\n",
    "        \n",
    "        return self.output_layer(x)\n",
    "\n",
    "class TransModel():\n",
    "    def __init__(self, input_len, ouput_len, learning_rate = 0.0001):\n",
    "        self.model = _TransModel(input_len, ouput_len)\n",
    "        \n",
    "        if use_cuda:\n",
    "            print(\"Using GPU\")\n",
    "            self.model = self.model.cuda()\n",
    "        else:\n",
    "            print(\"Using CPU\")\n",
    "        self.steps = 0\n",
    "        # self.model = nn.DataParallel(self.model)\n",
    "        self.optimizer = Adam(self.model.parameters(), lr = learning_rate)\n",
    "        self.loss_fn = nn.MSELoss(reduction='mean')\n",
    "        \n",
    "        self.steps = 0\n",
    "        \n",
    "    def predict(self, input, steps, learning):\n",
    "        \n",
    "        output = self.model(input).squeeze(1)\n",
    "        #reward, next_state = output[0], output[1:]\n",
    "\n",
    "        return output\n",
    "\n",
    "    def predict_batch(self, input):\n",
    "        output = self.model(input)\n",
    "        #reward, next_state = output[:, 0], output[:, 1:]\n",
    "        return output\n",
    "\n",
    "    def fit(self, state, target_state):\n",
    "        loss = self.loss_fn(state, target_state)\n",
    "\n",
    "        self.optimizer.zero_grad()\n",
    "        loss.backward()\n",
    "        self.optimizer.step()\n",
    "        self.steps += 1\n",
    "        return loss\n",
    "    \n",
    "    def save(self):\n",
    "        file_path = '../models_mb/nexus-HP-transition-model-predict-4.pt'\n",
    "        torch.save(self.model.state_dict(), file_path)"
   ]
  },
  {
   "cell_type": "code",
   "execution_count": 699,
   "metadata": {},
   "outputs": [],
   "source": [
    "def binHP(hp):\n",
    "    hp = hp * 2000 # Un-normalize\n",
    "    category = \"Null\"\n",
    "    if(hp < 0):\n",
    "        category = \"> 0\"\n",
    "    \n",
    "    if (hp >= 0 and hp <= 250):\n",
    "        category = \"0-250\"\n",
    "\n",
    "    if (hp >= 251 and hp <= 500):\n",
    "        category = \"251-500\"\n",
    "\n",
    "    if (hp >= 501 and hp <= 750):\n",
    "        category = \"501-750\"\n",
    "\n",
    "    if (hp >= 751 and hp <= 1000):\n",
    "        category = \"751-1000\"\n",
    "\n",
    "    if (hp >= 1001 and hp <= 1250):\n",
    "        category = \"1001-1250\"\n",
    "\n",
    "    if (hp >= 1251 and hp <= 1500):\n",
    "        category = \"1251-1500\"\n",
    "\n",
    "    if (hp >= 1501 and hp <= 1750):\n",
    "        category = \"1501-1750\"\n",
    "\n",
    "    if (hp >= 1751 and hp <= 2000):\n",
    "        category = \"1751-2000\"\n",
    "        \n",
    "    if (hp >= 2001):\n",
    "        category = \">= 2001\"\n",
    "    return category"
   ]
  },
  {
   "cell_type": "code",
   "execution_count": 700,
   "metadata": {},
   "outputs": [],
   "source": [
    "def dot_plot(x, y, fig, style = 'o'):\n",
    "    x = x * 2000\n",
    "    y = y * 2000\n",
    "    legend = [\n",
    "                \"Match line\",\n",
    "                \"Player 1 Top HP\",\n",
    "                \"Player 1 Bottom HP\",\n",
    "                \"Player 2 Top HP\",\n",
    "                \"Player 2 Bottom HP\",\n",
    "             ]\n",
    "    fig=plt.figure(figsize=(15, 15), dpi= 160, facecolor='w', edgecolor='k')\n",
    "\n",
    "    ax = plt.subplot(111)\n",
    "    ax.set_ylim([-100,2100])\n",
    "    ax.set_xlim([-100,2100])\n",
    "    ax.plot(list(range(-100, 2100)),list(range(-100,2100)), \"b--\", alpha=0.05)\n",
    "    for i in range(len(legend) - 1):\n",
    "        #plt.plot(x[:, i].view(-1).tolist(), y[:, i].view(-1).tolist(), style, s = 0.1)\n",
    "        ax.scatter(x[:, i].view(-1).tolist(), y[:, i].view(-1).tolist(),s = 0.5)\n",
    "\n",
    "    plt.title('Ground Truth - Predict of Units')\n",
    "    plt.legend(legend, bbox_to_anchor=(0, 1), loc='upper left', ncol=1)\n",
    "    plt.xlabel(\"Ground Truth\")\n",
    "    plt.ylabel(\"Predict\")\n",
    "    chartBox = ax.get_position()\n",
    "    ax.set_position([chartBox.x0, chartBox.y0, chartBox.width, chartBox.height])\n",
    "    ax.legend(legend, loc='center left', bbox_to_anchor=(1, 0.8), shadow=True, ncol=1)\n",
    "\n",
    "    return plt"
   ]
  },
  {
   "cell_type": "code",
   "execution_count": 701,
   "metadata": {},
   "outputs": [
    {
     "name": "stdout",
     "output_type": "stream",
     "text": [
      "(68,)\n"
     ]
    }
   ],
   "source": [
    "data = torch.load('data/test_dataset.pt')\n",
    "l = len(data)\n",
    "\n",
    "for i in range(0, len(data)):\n",
    "    data[i][1] = [ data[i][1][63] / 2000 , data[i][1][64] / 2000 , data[i][1][65] / 2000 , data[i][1][66] / 2000 ]\n",
    "    \n",
    "    data[i][0][1:4] = np.true_divide( data[i][0][1:4], 30) # Normalize P1 top buildings\n",
    "    data[i][0][4:7] = np.true_divide( data[i][0][4:7], 30) # Normalize P1 bottom buildings\n",
    "\n",
    "    data[i][0][8:11] = np.true_divide( data[i][0][8:11], 30) # Normalize P2 top buildings\n",
    "    data[i][0][11:14] = np.true_divide( data[i][0][11:14], 30) # Normalize P2 bottom buildings\n",
    "    \n",
    "    data[i][0][63] = data[i][0][63] / 2000 # Normalize P1 Top Nexus HP\n",
    "    data[i][0][64] = data[i][0][64] / 2000 # Normalize P2 Top Nexus HP\n",
    "    \n",
    "    data[i][0][65] = data[i][0][65] / 2000 # Normalize P1 Bottom Nexus HP\n",
    "    data[i][0][66] = data[i][0][66] / 2000 # Normalize P2 Bottom Nexus HP\n",
    "\n",
    "    data[i][0][0] = data[i][0][10] / 1500 # Normalize P1 Minerals\n",
    "    \n",
    "data = np.array(data)\n",
    "print(data[0][0].shape)\n"
   ]
  },
  {
   "cell_type": "code",
   "execution_count": 702,
   "metadata": {},
   "outputs": [
    {
     "name": "stdout",
     "output_type": "stream",
     "text": [
      "Using GPU\n"
     ]
    }
   ],
   "source": [
    "tmodel = TransModel(len(data[0][0]), len(data[0][1]))\n",
    "tmodel.model.load_state_dict(torch.load(\"./nexus-HP-transition-model-predict-4.pt\"))\n",
    "tmodel = tmodel.model.eval()"
   ]
  },
  {
   "cell_type": "code",
   "execution_count": 703,
   "metadata": {},
   "outputs": [
    {
     "name": "stdout",
     "output_type": "stream",
     "text": [
      "torch.Size([11090, 68])\n",
      "tensor([2.2222e-05, 7.0000e-01, 3.3333e-01, 0.0000e+00, 1.0000e-01, 3.3333e-02,\n",
      "        0.0000e+00, 1.0000e+00, 7.3333e-01, 1.6667e-01, 3.3333e-02, 0.0000e+00,\n",
      "        1.3333e-01, 3.3333e-02, 1.0000e+00, 0.0000e+00, 0.0000e+00, 0.0000e+00,\n",
      "        0.0000e+00, 0.0000e+00, 0.0000e+00, 1.7000e+01, 2.0000e+00, 0.0000e+00,\n",
      "        0.0000e+00, 0.0000e+00, 0.0000e+00, 0.0000e+00, 0.0000e+00, 0.0000e+00,\n",
      "        0.0000e+00, 0.0000e+00, 0.0000e+00, 0.0000e+00, 0.0000e+00, 0.0000e+00,\n",
      "        0.0000e+00, 0.0000e+00, 0.0000e+00, 0.0000e+00, 0.0000e+00, 0.0000e+00,\n",
      "        0.0000e+00, 0.0000e+00, 0.0000e+00, 0.0000e+00, 0.0000e+00, 0.0000e+00,\n",
      "        0.0000e+00, 0.0000e+00, 0.0000e+00, 0.0000e+00, 2.0000e+00, 0.0000e+00,\n",
      "        0.0000e+00, 0.0000e+00, 1.0000e+00, 0.0000e+00, 0.0000e+00, 0.0000e+00,\n",
      "        0.0000e+00, 0.0000e+00, 0.0000e+00, 5.1250e-01, 7.8300e-01, 5.5750e-01,\n",
      "        7.3000e-01, 1.7000e+01], device='cuda:0')\n",
      "tensor([1.6517e-01, 1.2841e+00, 6.9879e-01, 2.4717e-01, 7.0861e-01, 6.6148e-01,\n",
      "        1.2436e-01, 1.2186e+00, 1.4249e+00, 5.1916e-01, 7.2484e-01, 6.2976e-01,\n",
      "        5.4777e-01, 5.2228e-01, 1.6969e+00, 5.8564e-01, 5.9737e-01, 4.0312e-03,\n",
      "        5.8503e-01, 8.0387e-01, 1.1062e-02, 1.7029e+01, 2.3225e+00, 5.8045e-01,\n",
      "        3.6039e-01, 8.9202e-01, 4.5093e-01, 9.5316e-01, 6.5892e-01, 5.8943e-03,\n",
      "        9.1042e-01, 5.3799e-01, 1.9979e-01, 3.8986e-01, 3.3145e-01, 5.3333e-01,\n",
      "        9.9419e-01, 6.8763e-01, 2.4784e-01, 2.7515e-02, 9.5416e-02, 9.4765e-01,\n",
      "        8.0012e-01, 5.4376e-01, 5.0456e-01, 3.1905e-01, 4.1321e-02, 5.6733e-01,\n",
      "        7.5977e-01, 8.6649e-01, 1.9261e-01, 4.7126e-01, 2.0024e+00, 6.2143e-01,\n",
      "        6.2527e-01, 2.3781e-01, 1.8979e+00, 7.6191e-01, 5.3381e-01, 4.7648e-02,\n",
      "        4.9267e-01, 8.4261e-01, 7.3211e-01, 1.3880e+00, 1.0628e+00, 8.0160e-01,\n",
      "        1.2611e+00, 1.7558e+01], device='cuda:0')\n"
     ]
    }
   ],
   "source": [
    "data = torch.from_numpy(np.stack(data[:, 0])).type(FloatTensor)\n",
    "print(data.shape)\n",
    "\n",
    "y = torch.rand(11090, 68).type(FloatTensor)\n",
    "data_preturb = data.clone()\n",
    "data_preturb = data_preturb.add(y)\n",
    "\n",
    "print(data[0])\n",
    "print(data_preturb[0])\n"
   ]
  },
  {
   "cell_type": "code",
   "execution_count": 704,
   "metadata": {},
   "outputs": [
    {
     "data": {
      "image/png": "[encoded data removed]",
      "text/plain": [
       "<Figure size 1440x1440 with 1 Axes>"
      ]
     },
     "metadata": {
      "needs_background": "light"
     },
     "output_type": "display_data"
    }
   ],
   "source": [
    "total = []\n",
    "preturb = []\n",
    "for i, hp in enumerate(tmodel(data).reshape(-1)): \n",
    "    total.append(binHP(hp))\n",
    "\n",
    "for i, p in enumerate(tmodel(data_preturb).reshape(-1)):\n",
    "    preturb.append(binHP(p))\n",
    "\n",
    "plt.figure(figsize=(20,20))\n",
    "plt.hist(total, rwidth=0.5, align='left', alpha=0.3, label='Original')\n",
    "plt.hist(preturb, rwidth=0.5, align='left', alpha=0.3, label='Perturbed')\n",
    "plt.legend(loc='upper right')\n",
    "\n",
    "plt.xticks(np.arange(10), ('> 0','0-250','251-500','501-750','751-1000','1001-1250','1251-1500','1501-1750','1751-2000','>= 2001'))\n",
    "plt.title('HP Binned Distribution')\n",
    "plt.show()"
   ]
  },
  {
   "cell_type": "code",
   "execution_count": null,
   "metadata": {},
   "outputs": [],
   "source": []
  }
 ],
 "metadata": {
  "kernelspec": {
   "display_name": "Python 3",
   "language": "python",
   "name": "python3"
  },
  "language_info": {
   "codemirror_mode": {
    "name": "ipython",
    "version": 3
   },
   "file_extension": ".py",
   "mimetype": "text/x-python",
   "name": "python",
   "nbconvert_exporter": "python",
   "pygments_lexer": "ipython3",
   "version": "3.6.8"
  }
 },
 "nbformat": 4,
 "nbformat_minor": 2
}
