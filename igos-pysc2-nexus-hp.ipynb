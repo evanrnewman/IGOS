{
 "cells": [
  {
   "cell_type": "code",
   "execution_count": null,
   "metadata": {},
   "outputs": [],
   "source": [
    "import numpy as np\n",
    "import torch\n",
    "import matplotlib.pyplot as plt\n",
    "np.set_printoptions(suppress=True)"
   ]
  },
  {
   "cell_type": "code",
   "execution_count": null,
   "metadata": {},
   "outputs": [],
   "source": [
    "data = torch.load('data/test_dataset.pt')\n",
    "l = len(data)\n",
    "\n",
    "for i in range(0, len(data)):\n",
    "    data[i][1] = [ data[i][1][63] / 2000 , data[i][1][64] / 2000 , data[i][1][65] / 2000 , data[i][1][66] / 2000 ]\n",
    "    \n",
    "    data[i][0][1:4] = np.true_divide( data[i][0][1:4], 30) # Normalize P1 top buildings\n",
    "    data[i][0][4:7] = np.true_divide( data[i][0][4:7], 30) # Normalize P1 bottom buildings\n",
    "\n",
    "    data[i][0][8:11] = np.true_divide( data[i][0][8:11], 30) # Normalize P2 top buildings\n",
    "    data[i][0][11:14] = np.true_divide( data[i][0][11:14], 30) # Normalize P2 bottom buildings\n",
    "    \n",
    "    data[i][0][63] = data[i][0][63] / 2000 # Normalize P1 Top Nexus HP\n",
    "    data[i][0][64] = data[i][0][64] / 2000 # Normalize P2 Top Nexus HP\n",
    "    \n",
    "    data[i][0][65] = data[i][0][65] / 2000 # Normalize P1 Bottom Nexus HP\n",
    "    data[i][0][66] = data[i][0][66] / 2000 # Normalize P2 Bottom Nexus HP\n",
    "\n",
    "    data[i][0][0] = data[i][0][10] / 1500 # Normalize P1 Minerals\n",
    "    \n",
    "    data[i][0] = data[i][0].reshape((2, 34))\n",
    "#np.random.shuffle(data)\n",
    "\n",
    "train_data = np.array(data[: int(np.floor(l * 0.8))])\n",
    "test_data = np.array(data[int(np.floor(l * 0.8)) : ])\n",
    "print(train_data.shape, test_data.shape)\n",
    "print(data[0][0])\n",
    "plt.imshow(data[0][0], interpolation='nearest')\n",
    "plt.show()"
   ]
  },
  {
   "cell_type": "code",
   "execution_count": null,
   "metadata": {},
   "outputs": [],
   "source": [
    "model = torch.load(\"./nexus-HP-transition-model-predict-4.pt\")"
   ]
  },
  {
   "cell_type": "code",
   "execution_count": null,
   "metadata": {},
   "outputs": [],
   "source": []
  }
 ],
 "metadata": {
  "kernelspec": {
   "display_name": "Python 3",
   "language": "python",
   "name": "python3"
  },
  "language_info": {
   "codemirror_mode": {
    "name": "ipython",
    "version": 3
   },
   "file_extension": ".py",
   "mimetype": "text/x-python",
   "name": "python",
   "nbconvert_exporter": "python",
   "pygments_lexer": "ipython3",
   "version": "3.6.8"
  }
 },
 "nbformat": 4,
 "nbformat_minor": 2
}
